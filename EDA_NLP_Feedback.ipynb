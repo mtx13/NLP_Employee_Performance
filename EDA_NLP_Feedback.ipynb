{
 "cells": [
  {
   "cell_type": "markdown",
   "metadata": {},
   "source": [
    "# Build Pipeline and Predict Sentiment"
   ]
  },
  {
   "cell_type": "code",
   "execution_count": 1,
   "metadata": {},
   "outputs": [],
   "source": [
    "import pandas as pd\n",
    "import numpy as np"
   ]
  },
  {
   "cell_type": "markdown",
   "metadata": {},
   "source": [
    "### Import feedback datafile"
   ]
  },
  {
   "cell_type": "code",
   "execution_count": 2,
   "metadata": {},
   "outputs": [
    {
     "data": {
      "text/plain": [
       "id                        int64\n",
       "person_name              object\n",
       "updated                    bool\n",
       "reviewed                   bool\n",
       "performance              object\n",
       "potential                object\n",
       "category                  int64\n",
       "peformance_potential     object\n",
       "feedback_sent            object\n",
       "polarity                 object\n",
       "confidence              float64\n",
       "word_count                int64\n",
       "dtype: object"
      ]
     },
     "execution_count": 2,
     "metadata": {},
     "output_type": "execute_result"
    }
   ],
   "source": [
    "#Read the feedback file created via EDA_Prepare_Data notebook.\n",
    "#The sentiment score has already been calculated and stored in the file. \n",
    "\n",
    "df = pd.read_csv('./data/feedback.csv')  \n",
    "df.dtypes"
   ]
  },
  {
   "cell_type": "code",
   "execution_count": 3,
   "metadata": {},
   "outputs": [
    {
     "data": {
      "text/plain": [
       "id                        int64\n",
       "person_name              object\n",
       "updated                    bool\n",
       "reviewed                   bool\n",
       "performance              object\n",
       "potential                object\n",
       "category                 object\n",
       "peformance_potential     object\n",
       "feedback_sent            object\n",
       "polarity                 object\n",
       "confidence              float64\n",
       "word_count                int64\n",
       "dtype: object"
      ]
     },
     "execution_count": 3,
     "metadata": {},
     "output_type": "execute_result"
    }
   ],
   "source": [
    "df['category']= df['category'].astype(str)\n",
    "df.dtypes"
   ]
  },
  {
   "cell_type": "code",
   "execution_count": 4,
   "metadata": {},
   "outputs": [
    {
     "data": {
      "text/html": [
       "<div>\n",
       "<style scoped>\n",
       "    .dataframe tbody tr th:only-of-type {\n",
       "        vertical-align: middle;\n",
       "    }\n",
       "\n",
       "    .dataframe tbody tr th {\n",
       "        vertical-align: top;\n",
       "    }\n",
       "\n",
       "    .dataframe thead th {\n",
       "        text-align: right;\n",
       "    }\n",
       "</style>\n",
       "<table border=\"1\" class=\"dataframe\">\n",
       "  <thead>\n",
       "    <tr style=\"text-align: right;\">\n",
       "      <th></th>\n",
       "      <th>id</th>\n",
       "      <th>person_name</th>\n",
       "      <th>updated</th>\n",
       "      <th>reviewed</th>\n",
       "      <th>performance</th>\n",
       "      <th>potential</th>\n",
       "      <th>category</th>\n",
       "      <th>peformance_potential</th>\n",
       "      <th>feedback_sent</th>\n",
       "      <th>polarity</th>\n",
       "      <th>confidence</th>\n",
       "      <th>word_count</th>\n",
       "    </tr>\n",
       "  </thead>\n",
       "  <tbody>\n",
       "    <tr>\n",
       "      <th>0</th>\n",
       "      <td>20051</td>\n",
       "      <td>Lacey Howard</td>\n",
       "      <td>True</td>\n",
       "      <td>True</td>\n",
       "      <td>Low</td>\n",
       "      <td>Low</td>\n",
       "      <td>1</td>\n",
       "      <td>1: Low : Low</td>\n",
       "      <td>Lacey's performance has been sub standard in t...</td>\n",
       "      <td>NEGATIVE</td>\n",
       "      <td>0.758257</td>\n",
       "      <td>11</td>\n",
       "    </tr>\n",
       "    <tr>\n",
       "      <th>1</th>\n",
       "      <td>20051</td>\n",
       "      <td>Lacey Howard</td>\n",
       "      <td>True</td>\n",
       "      <td>True</td>\n",
       "      <td>Low</td>\n",
       "      <td>Low</td>\n",
       "      <td>1</td>\n",
       "      <td>1: Low : Low</td>\n",
       "      <td>She tries to take up too many tasks at the sam...</td>\n",
       "      <td>NEGATIVE</td>\n",
       "      <td>0.997663</td>\n",
       "      <td>24</td>\n",
       "    </tr>\n",
       "    <tr>\n",
       "      <th>2</th>\n",
       "      <td>20051</td>\n",
       "      <td>Lacey Howard</td>\n",
       "      <td>True</td>\n",
       "      <td>True</td>\n",
       "      <td>Low</td>\n",
       "      <td>Low</td>\n",
       "      <td>1</td>\n",
       "      <td>1: Low : Low</td>\n",
       "      <td>Although she has delivered some results, they ...</td>\n",
       "      <td>NEGATIVE</td>\n",
       "      <td>0.999925</td>\n",
       "      <td>23</td>\n",
       "    </tr>\n",
       "    <tr>\n",
       "      <th>3</th>\n",
       "      <td>20051</td>\n",
       "      <td>Lacey Howard</td>\n",
       "      <td>True</td>\n",
       "      <td>True</td>\n",
       "      <td>Low</td>\n",
       "      <td>Low</td>\n",
       "      <td>1</td>\n",
       "      <td>1: Low : Low</td>\n",
       "      <td>Unless she improves a lot by taking advantage ...</td>\n",
       "      <td>NEGATIVE</td>\n",
       "      <td>0.960807</td>\n",
       "      <td>28</td>\n",
       "    </tr>\n",
       "    <tr>\n",
       "      <th>4</th>\n",
       "      <td>20057</td>\n",
       "      <td>Amy Jones</td>\n",
       "      <td>True</td>\n",
       "      <td>True</td>\n",
       "      <td>Low</td>\n",
       "      <td>Low</td>\n",
       "      <td>1</td>\n",
       "      <td>1: Low : Low</td>\n",
       "      <td>Amy struggles at her work a lot.</td>\n",
       "      <td>NEGATIVE</td>\n",
       "      <td>0.995157</td>\n",
       "      <td>7</td>\n",
       "    </tr>\n",
       "    <tr>\n",
       "      <th>...</th>\n",
       "      <td>...</td>\n",
       "      <td>...</td>\n",
       "      <td>...</td>\n",
       "      <td>...</td>\n",
       "      <td>...</td>\n",
       "      <td>...</td>\n",
       "      <td>...</td>\n",
       "      <td>...</td>\n",
       "      <td>...</td>\n",
       "      <td>...</td>\n",
       "      <td>...</td>\n",
       "      <td>...</td>\n",
       "    </tr>\n",
       "    <tr>\n",
       "      <th>4552</th>\n",
       "      <td>20023</td>\n",
       "      <td>Allan Logan</td>\n",
       "      <td>True</td>\n",
       "      <td>True</td>\n",
       "      <td>High</td>\n",
       "      <td>High</td>\n",
       "      <td>9</td>\n",
       "      <td>9: High : High</td>\n",
       "      <td>Never before have I seen so much talent, I onl...</td>\n",
       "      <td>POSITIVE</td>\n",
       "      <td>0.998588</td>\n",
       "      <td>15</td>\n",
       "    </tr>\n",
       "    <tr>\n",
       "      <th>4553</th>\n",
       "      <td>20024</td>\n",
       "      <td>Allan Logan</td>\n",
       "      <td>True</td>\n",
       "      <td>True</td>\n",
       "      <td>High</td>\n",
       "      <td>High</td>\n",
       "      <td>9</td>\n",
       "      <td>9: High : High</td>\n",
       "      <td>Allan Logan touches anything and it turns to g...</td>\n",
       "      <td>POSITIVE</td>\n",
       "      <td>0.822073</td>\n",
       "      <td>9</td>\n",
       "    </tr>\n",
       "    <tr>\n",
       "      <th>4554</th>\n",
       "      <td>20024</td>\n",
       "      <td>Allan Logan</td>\n",
       "      <td>True</td>\n",
       "      <td>True</td>\n",
       "      <td>High</td>\n",
       "      <td>High</td>\n",
       "      <td>9</td>\n",
       "      <td>9: High : High</td>\n",
       "      <td>Nothing but the most capable hand in the team.</td>\n",
       "      <td>POSITIVE</td>\n",
       "      <td>0.999360</td>\n",
       "      <td>9</td>\n",
       "    </tr>\n",
       "    <tr>\n",
       "      <th>4555</th>\n",
       "      <td>20024</td>\n",
       "      <td>Allan Logan</td>\n",
       "      <td>True</td>\n",
       "      <td>True</td>\n",
       "      <td>High</td>\n",
       "      <td>High</td>\n",
       "      <td>9</td>\n",
       "      <td>9: High : High</td>\n",
       "      <td>He has shown he can achieve what many would dr...</td>\n",
       "      <td>POSITIVE</td>\n",
       "      <td>0.999163</td>\n",
       "      <td>11</td>\n",
       "    </tr>\n",
       "    <tr>\n",
       "      <th>4556</th>\n",
       "      <td>20024</td>\n",
       "      <td>Allan Logan</td>\n",
       "      <td>True</td>\n",
       "      <td>True</td>\n",
       "      <td>High</td>\n",
       "      <td>High</td>\n",
       "      <td>9</td>\n",
       "      <td>9: High : High</td>\n",
       "      <td>Overall his capability has been an asset and a...</td>\n",
       "      <td>POSITIVE</td>\n",
       "      <td>0.999071</td>\n",
       "      <td>12</td>\n",
       "    </tr>\n",
       "  </tbody>\n",
       "</table>\n",
       "<p>4557 rows × 12 columns</p>\n",
       "</div>"
      ],
      "text/plain": [
       "         id   person_name  updated  reviewed performance potential category  \\\n",
       "0     20051  Lacey Howard     True      True         Low       Low        1   \n",
       "1     20051  Lacey Howard     True      True         Low       Low        1   \n",
       "2     20051  Lacey Howard     True      True         Low       Low        1   \n",
       "3     20051  Lacey Howard     True      True         Low       Low        1   \n",
       "4     20057     Amy Jones     True      True         Low       Low        1   \n",
       "...     ...           ...      ...       ...         ...       ...      ...   \n",
       "4552  20023   Allan Logan     True      True        High      High        9   \n",
       "4553  20024   Allan Logan     True      True        High      High        9   \n",
       "4554  20024   Allan Logan     True      True        High      High        9   \n",
       "4555  20024   Allan Logan     True      True        High      High        9   \n",
       "4556  20024   Allan Logan     True      True        High      High        9   \n",
       "\n",
       "     peformance_potential                                      feedback_sent  \\\n",
       "0            1: Low : Low  Lacey's performance has been sub standard in t...   \n",
       "1            1: Low : Low  She tries to take up too many tasks at the sam...   \n",
       "2            1: Low : Low  Although she has delivered some results, they ...   \n",
       "3            1: Low : Low  Unless she improves a lot by taking advantage ...   \n",
       "4            1: Low : Low                   Amy struggles at her work a lot.   \n",
       "...                   ...                                                ...   \n",
       "4552       9: High : High  Never before have I seen so much talent, I onl...   \n",
       "4553       9: High : High  Allan Logan touches anything and it turns to g...   \n",
       "4554       9: High : High     Nothing but the most capable hand in the team.   \n",
       "4555       9: High : High  He has shown he can achieve what many would dr...   \n",
       "4556       9: High : High  Overall his capability has been an asset and a...   \n",
       "\n",
       "      polarity  confidence  word_count  \n",
       "0     NEGATIVE    0.758257          11  \n",
       "1     NEGATIVE    0.997663          24  \n",
       "2     NEGATIVE    0.999925          23  \n",
       "3     NEGATIVE    0.960807          28  \n",
       "4     NEGATIVE    0.995157           7  \n",
       "...        ...         ...         ...  \n",
       "4552  POSITIVE    0.998588          15  \n",
       "4553  POSITIVE    0.822073           9  \n",
       "4554  POSITIVE    0.999360           9  \n",
       "4555  POSITIVE    0.999163          11  \n",
       "4556  POSITIVE    0.999071          12  \n",
       "\n",
       "[4557 rows x 12 columns]"
      ]
     },
     "execution_count": 4,
     "metadata": {},
     "output_type": "execute_result"
    }
   ],
   "source": [
    "df"
   ]
  },
  {
   "cell_type": "markdown",
   "metadata": {},
   "source": [
    "## Examine data - determine necessary cleaning"
   ]
  },
  {
   "cell_type": "code",
   "execution_count": 5,
   "metadata": {},
   "outputs": [
    {
     "data": {
      "text/plain": [
       "id                      0\n",
       "person_name             0\n",
       "updated                 0\n",
       "reviewed                0\n",
       "performance             0\n",
       "potential               0\n",
       "category                0\n",
       "peformance_potential    0\n",
       "feedback_sent           0\n",
       "polarity                0\n",
       "confidence              0\n",
       "word_count              0\n",
       "dtype: int64"
      ]
     },
     "execution_count": 5,
     "metadata": {},
     "output_type": "execute_result"
    }
   ],
   "source": [
    "#No Null values found\n",
    "df.isna().sum()  "
   ]
  },
  {
   "cell_type": "code",
   "execution_count": 6,
   "metadata": {},
   "outputs": [
    {
     "name": "stdout",
     "output_type": "stream",
     "text": [
      "['Low' 'Moderate' 'High']\n",
      "['Low' 'Moderate' 'High']\n",
      "['1' '2' '3' '4' '5' '6' '7' '8' '9']\n",
      "['NEGATIVE' 'POSITIVE']\n",
      "[ True False]\n",
      "[ True False]\n"
     ]
    }
   ],
   "source": [
    "#All unique values are valid.\n",
    "columns = ('performance','potential','category','polarity','updated','reviewed')\n",
    "for col in columns:\n",
    "   print(df[col].unique())\n"
   ]
  },
  {
   "cell_type": "markdown",
   "metadata": {},
   "source": [
    "#### Look for rows with invalid text"
   ]
  },
  {
   "cell_type": "code",
   "execution_count": 7,
   "metadata": {},
   "outputs": [
    {
     "data": {
      "text/plain": [
       "1"
      ]
     },
     "execution_count": 7,
     "metadata": {},
     "output_type": "execute_result"
    }
   ],
   "source": [
    "#Verify at least one word in each comment\n",
    "#What do these very short sentences look like? \n",
    "df.word_count.min()"
   ]
  },
  {
   "cell_type": "code",
   "execution_count": 8,
   "metadata": {},
   "outputs": [
    {
     "data": {
      "text/html": [
       "<div>\n",
       "<style scoped>\n",
       "    .dataframe tbody tr th:only-of-type {\n",
       "        vertical-align: middle;\n",
       "    }\n",
       "\n",
       "    .dataframe tbody tr th {\n",
       "        vertical-align: top;\n",
       "    }\n",
       "\n",
       "    .dataframe thead th {\n",
       "        text-align: right;\n",
       "    }\n",
       "</style>\n",
       "<table border=\"1\" class=\"dataframe\">\n",
       "  <thead>\n",
       "    <tr style=\"text-align: right;\">\n",
       "      <th></th>\n",
       "      <th>id</th>\n",
       "      <th>person_name</th>\n",
       "      <th>updated</th>\n",
       "      <th>reviewed</th>\n",
       "      <th>performance</th>\n",
       "      <th>potential</th>\n",
       "      <th>category</th>\n",
       "      <th>peformance_potential</th>\n",
       "      <th>feedback_sent</th>\n",
       "      <th>polarity</th>\n",
       "      <th>confidence</th>\n",
       "      <th>word_count</th>\n",
       "    </tr>\n",
       "  </thead>\n",
       "  <tbody>\n",
       "    <tr>\n",
       "      <th>1136</th>\n",
       "      <td>58</td>\n",
       "      <td>Caiden Pace</td>\n",
       "      <td>False</td>\n",
       "      <td>False</td>\n",
       "      <td>Low</td>\n",
       "      <td>Low</td>\n",
       "      <td>1</td>\n",
       "      <td>1: Low : Low</td>\n",
       "      <td>.</td>\n",
       "      <td>POSITIVE</td>\n",
       "      <td>0.759743</td>\n",
       "      <td>1</td>\n",
       "    </tr>\n",
       "    <tr>\n",
       "      <th>1890</th>\n",
       "      <td>177</td>\n",
       "      <td>Bruno Johns</td>\n",
       "      <td>False</td>\n",
       "      <td>False</td>\n",
       "      <td>High</td>\n",
       "      <td>Low</td>\n",
       "      <td>3</td>\n",
       "      <td>3: High : Low</td>\n",
       "      <td>:)</td>\n",
       "      <td>POSITIVE</td>\n",
       "      <td>0.977196</td>\n",
       "      <td>1</td>\n",
       "    </tr>\n",
       "    <tr>\n",
       "      <th>2651</th>\n",
       "      <td>10142</td>\n",
       "      <td>Lexi Rogers</td>\n",
       "      <td>False</td>\n",
       "      <td>False</td>\n",
       "      <td>Low</td>\n",
       "      <td>Moderate</td>\n",
       "      <td>4</td>\n",
       "      <td>4: Low : Moderate</td>\n",
       "      <td>Teamworkâ€™s.</td>\n",
       "      <td>POSITIVE</td>\n",
       "      <td>0.998984</td>\n",
       "      <td>1</td>\n",
       "    </tr>\n",
       "    <tr>\n",
       "      <th>3239</th>\n",
       "      <td>433</td>\n",
       "      <td>Pedro David</td>\n",
       "      <td>False</td>\n",
       "      <td>False</td>\n",
       "      <td>High</td>\n",
       "      <td>Moderate</td>\n",
       "      <td>6</td>\n",
       "      <td>6: High : Moderate</td>\n",
       "      <td>Thanks.</td>\n",
       "      <td>POSITIVE</td>\n",
       "      <td>0.986550</td>\n",
       "      <td>1</td>\n",
       "    </tr>\n",
       "  </tbody>\n",
       "</table>\n",
       "</div>"
      ],
      "text/plain": [
       "         id  person_name  updated  reviewed performance potential category  \\\n",
       "1136     58  Caiden Pace    False     False         Low       Low        1   \n",
       "1890    177  Bruno Johns    False     False        High       Low        3   \n",
       "2651  10142  Lexi Rogers    False     False         Low  Moderate        4   \n",
       "3239    433  Pedro David    False     False        High  Moderate        6   \n",
       "\n",
       "     peformance_potential  feedback_sent  polarity  confidence  word_count  \n",
       "1136         1: Low : Low              .  POSITIVE    0.759743           1  \n",
       "1890        3: High : Low             :)  POSITIVE    0.977196           1  \n",
       "2651    4: Low : Moderate  Teamworkâ€™s.  POSITIVE    0.998984           1  \n",
       "3239   6: High : Moderate        Thanks.  POSITIVE    0.986550           1  "
      ]
     },
     "execution_count": 8,
     "metadata": {},
     "output_type": "execute_result"
    }
   ],
   "source": [
    "df.loc[df['word_count'] == 1]"
   ]
  },
  {
   "cell_type": "code",
   "execution_count": 9,
   "metadata": {},
   "outputs": [
    {
     "data": {
      "text/plain": [
       "1136     .\n",
       "1890    :)\n",
       "Name: feedback_sent, dtype: object"
      ]
     },
     "execution_count": 9,
     "metadata": {},
     "output_type": "execute_result"
    }
   ],
   "source": [
    "#Find rows with no characters. \n",
    "no_char = df[~df['feedback_sent'].str.contains('[A-Za-z]')]\n",
    "no_char['feedback_sent']\n"
   ]
  },
  {
   "cell_type": "code",
   "execution_count": 10,
   "metadata": {},
   "outputs": [
    {
     "data": {
      "text/html": [
       "<div>\n",
       "<style scoped>\n",
       "    .dataframe tbody tr th:only-of-type {\n",
       "        vertical-align: middle;\n",
       "    }\n",
       "\n",
       "    .dataframe tbody tr th {\n",
       "        vertical-align: top;\n",
       "    }\n",
       "\n",
       "    .dataframe thead th {\n",
       "        text-align: right;\n",
       "    }\n",
       "</style>\n",
       "<table border=\"1\" class=\"dataframe\">\n",
       "  <thead>\n",
       "    <tr style=\"text-align: right;\">\n",
       "      <th></th>\n",
       "      <th>id</th>\n",
       "      <th>person_name</th>\n",
       "      <th>updated</th>\n",
       "      <th>reviewed</th>\n",
       "      <th>performance</th>\n",
       "      <th>potential</th>\n",
       "      <th>category</th>\n",
       "      <th>peformance_potential</th>\n",
       "      <th>feedback_sent</th>\n",
       "      <th>polarity</th>\n",
       "      <th>confidence</th>\n",
       "      <th>word_count</th>\n",
       "    </tr>\n",
       "  </thead>\n",
       "  <tbody>\n",
       "    <tr>\n",
       "      <th>2651</th>\n",
       "      <td>10142</td>\n",
       "      <td>Lexi Rogers</td>\n",
       "      <td>False</td>\n",
       "      <td>False</td>\n",
       "      <td>Low</td>\n",
       "      <td>Moderate</td>\n",
       "      <td>4</td>\n",
       "      <td>4: Low : Moderate</td>\n",
       "      <td>Teamworkâ€™s.</td>\n",
       "      <td>POSITIVE</td>\n",
       "      <td>0.998984</td>\n",
       "      <td>1</td>\n",
       "    </tr>\n",
       "    <tr>\n",
       "      <th>3239</th>\n",
       "      <td>433</td>\n",
       "      <td>Pedro David</td>\n",
       "      <td>False</td>\n",
       "      <td>False</td>\n",
       "      <td>High</td>\n",
       "      <td>Moderate</td>\n",
       "      <td>6</td>\n",
       "      <td>6: High : Moderate</td>\n",
       "      <td>Thanks.</td>\n",
       "      <td>POSITIVE</td>\n",
       "      <td>0.986550</td>\n",
       "      <td>1</td>\n",
       "    </tr>\n",
       "  </tbody>\n",
       "</table>\n",
       "</div>"
      ],
      "text/plain": [
       "         id  person_name  updated  reviewed performance potential category  \\\n",
       "2651  10142  Lexi Rogers    False     False         Low  Moderate        4   \n",
       "3239    433  Pedro David    False     False        High  Moderate        6   \n",
       "\n",
       "     peformance_potential  feedback_sent  polarity  confidence  word_count  \n",
       "2651    4: Low : Moderate  Teamworkâ€™s.  POSITIVE    0.998984           1  \n",
       "3239   6: High : Moderate        Thanks.  POSITIVE    0.986550           1  "
      ]
     },
     "execution_count": 10,
     "metadata": {},
     "output_type": "execute_result"
    }
   ],
   "source": [
    "#Remove the invalid rows\n",
    "#NOTE!!!!!!!!  More cleanup of special characters must be done for final model!!!!\n",
    "\n",
    "df = df[df['feedback_sent'].str.contains('[A-Za-z]')]\n",
    "df.loc[df['word_count'] <= 1]"
   ]
  },
  {
   "cell_type": "markdown",
   "metadata": {},
   "source": [
    "### Visualize Data"
   ]
  },
  {
   "cell_type": "markdown",
   "metadata": {},
   "source": [
    "### Examine polarity by category, peformance & potential"
   ]
  },
  {
   "cell_type": "code",
   "execution_count": 11,
   "metadata": {},
   "outputs": [
    {
     "data": {
      "image/png": "[encoded data removed]",
      "text/plain": [
       "<Figure size 432x288 with 1 Axes>"
      ]
     },
     "metadata": {
      "needs_background": "light"
     },
     "output_type": "display_data"
    },
    {
     "data": {
      "image/png": "[encoded data removed]",
      "text/plain": [
       "<Figure size 432x288 with 1 Axes>"
      ]
     },
     "metadata": {
      "needs_background": "light"
     },
     "output_type": "display_data"
    },
    {
     "data": {
      "image/png": "[encoded data removed]",
      "text/plain": [
       "<Figure size 432x288 with 1 Axes>"
      ]
     },
     "metadata": {
      "needs_background": "light"
     },
     "output_type": "display_data"
    }
   ],
   "source": [
    "import matplotlib.pyplot as plt\n",
    "import seaborn as sns\n",
    "#stacked bar graph by polarity for perf, potential & category\n",
    "\n",
    "columns = ('performance','potential','category')\n",
    "\n",
    "for col in columns:\n",
    "    #stacked bar chart of polarity but column\n",
    "    sns.histplot(\n",
    "        data=df,\n",
    "        x=col, hue='polarity',\n",
    "        multiple='fill', stat='count',\n",
    "        discrete=True, shrink=.5\n",
    "    )\n",
    "    \n",
    "    plt.show()\n",
    "    \n"
   ]
  },
  {
   "cell_type": "markdown",
   "metadata": {},
   "source": [
    "### Examine Word Count by performance, potential category & polarity"
   ]
  },
  {
   "cell_type": "code",
   "execution_count": 12,
   "metadata": {},
   "outputs": [
    {
     "name": "stdout",
     "output_type": "stream",
     "text": [
      "category\n",
      "1    14.261417\n",
      "2    14.436330\n",
      "3    14.505285\n",
      "4    14.533451\n",
      "5    14.235189\n",
      "6    14.002141\n",
      "7    14.681319\n",
      "8    13.984914\n",
      "9    13.248288\n",
      "Name: word_count, dtype: float64\n"
     ]
    },
    {
     "data": {
      "image/png": "[encoded data removed]",
      "text/plain": [
       "<Figure size 432x288 with 1 Axes>"
      ]
     },
     "metadata": {
      "needs_background": "light"
     },
     "output_type": "display_data"
    },
    {
     "data": {
      "image/png": "[encoded data removed]",
      "text/plain": [
       "<Figure size 432x288 with 1 Axes>"
      ]
     },
     "metadata": {
      "needs_background": "light"
     },
     "output_type": "display_data"
    },
    {
     "data": {
      "image/png": "[encoded data removed]",
      "text/plain": [
       "<Figure size 432x288 with 1 Axes>"
      ]
     },
     "metadata": {
      "needs_background": "light"
     },
     "output_type": "display_data"
    },
    {
     "data": {
      "image/png": "[encoded data removed]",
      "text/plain": [
       "<Figure size 432x288 with 1 Axes>"
      ]
     },
     "metadata": {
      "needs_background": "light"
     },
     "output_type": "display_data"
    }
   ],
   "source": [
    "import matplotlib.pyplot as plt\n",
    "import seaborn as sns\n",
    "\n",
    "#word count with median by polarity, performance, potential & category\n",
    "\n",
    "wc = df.groupby('category')['word_count'].mean()\n",
    "print(wc)\n",
    "\n",
    "columns = ('performance','potential','category','polarity')\n",
    "\n",
    "for col in columns:\n",
    "    #sns.boxplot(   x=col, y='word_count', data=df, whis=np.inf )   \n",
    "    sns.violinplot(x=col, y='word_count', data=df, inner=None , color=\".8\")\n",
    "    plt.show()\n",
    "    \n"
   ]
  },
  {
   "cell_type": "markdown",
   "metadata": {},
   "source": [
    "### Examine Distribution of Performance Category"
   ]
  },
  {
   "cell_type": "code",
   "execution_count": 13,
   "metadata": {},
   "outputs": [
    {
     "data": {
      "text/plain": [
       "([0, 1, 2, 3, 4, 5, 6, 7, 8],\n",
       " [Text(0, 0, '1: Low : Low'),\n",
       "  Text(1, 0, '2: Moderate : Low'),\n",
       "  Text(2, 0, '3: High : Low'),\n",
       "  Text(3, 0, '4: Low : Moderate'),\n",
       "  Text(4, 0, '5: Moderate : Moderate'),\n",
       "  Text(5, 0, '6: High : Moderate'),\n",
       "  Text(6, 0, '7: Low : High'),\n",
       "  Text(7, 0, '8: Moderate : High'),\n",
       "  Text(8, 0, '9: High : High')])"
      ]
     },
     "execution_count": 13,
     "metadata": {},
     "output_type": "execute_result"
    },
    {
     "data": {
      "image/png": "[encoded data removed]",
      "text/plain": [
       "<Figure size 360x360 with 1 Axes>"
      ]
     },
     "metadata": {
      "needs_background": "light"
     },
     "output_type": "display_data"
    }
   ],
   "source": [
    "#sns.set(rc={'figure.figsize':(11.7,8.27)})\n",
    "sns.displot(data=df, x=\"peformance_potential\", discrete=True)\n",
    "plt.xticks(rotation=70)\n"
   ]
  },
  {
   "cell_type": "markdown",
   "metadata": {},
   "source": [
    "# Sections below will be implemented in final model"
   ]
  },
  {
   "cell_type": "markdown",
   "metadata": {},
   "source": [
    "### Removing Special Char"
   ]
  },
  {
   "cell_type": "code",
   "execution_count": 14,
   "metadata": {},
   "outputs": [
    {
     "data": {
      "text/plain": [
       "'Teamwork   s.'"
      ]
     },
     "execution_count": 14,
     "metadata": {},
     "output_type": "execute_result"
    }
   ],
   "source": [
    "import re\n",
    "re.sub(r'[^\\x00-\\x7f]',r' ', 'Teamworkâ€™s.')"
   ]
  },
  {
   "cell_type": "markdown",
   "metadata": {},
   "source": [
    "### Expanding Contractions"
   ]
  },
  {
   "cell_type": "code",
   "execution_count": 15,
   "metadata": {},
   "outputs": [
    {
     "data": {
      "text/plain": [
       "'She is a great team player, though she rarely stands out.'"
      ]
     },
     "execution_count": 15,
     "metadata": {},
     "output_type": "execute_result"
    }
   ],
   "source": [
    "import contractions\n",
    "text = '''She's a great team player, though she rarely stands out.'''\n",
    " \n",
    "contractions.fix(text)"
   ]
  },
  {
   "cell_type": "code",
   "execution_count": null,
   "metadata": {},
   "outputs": [],
   "source": []
  }
 ],
 "metadata": {
  "kernelspec": {
   "display_name": "Python 3.6",
   "language": "python",
   "name": "py36-env"
  },
  "language_info": {
   "codemirror_mode": {
    "name": "ipython",
    "version": 3
   },
   "file_extension": ".py",
   "mimetype": "text/x-python",
   "name": "python",
   "nbconvert_exporter": "python",
   "pygments_lexer": "ipython3",
   "version": "3.6.8"
  }
 },
 "nbformat": 4,
 "nbformat_minor": 4
}
